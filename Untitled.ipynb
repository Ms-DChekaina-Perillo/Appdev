{
 "cells": [
  {
   "cell_type": "code",
   "execution_count": 8,
   "id": "028c1067-a810-41c8-9abb-10ec6ce5171c",
   "metadata": {},
   "outputs": [
    {
     "name": "stdout",
     "output_type": "stream",
     "text": [
      "  column-a  column-b  column-c  column-d  column-e column-f  \\\n",
      "0        a         2         1         3       3.0        h   \n",
      "1        b         5         2         4       4.0        i   \n",
      "2        c         8         3         5       5.0        j   \n",
      "3        d        11         4         6       6.0        k   \n",
      "\n",
      "                    column-g                       column-h column-i  \n",
      "0  2020-01-01 00:00:00-05:00  2020-01-01 00:00:00.000000000     True  \n",
      "1  2020-01-02 00:00:00-05:00  2020-01-01 00:00:00.000000001    False  \n",
      "2  2020-01-03 00:00:00-05:00  2020-01-01 00:00:00.000000002    False  \n",
      "3  2020-01-04 00:00:00-05:00  2020-01-01 00:00:00.000000003     True  \n"
     ]
    }
   ],
   "source": [
    "import numpy as np\n",
    "import pandas as pd\n",
    "\n",
    "data = {\n",
    "    \"column-a\": [\"a\", \"b\", \"c\", \"d\"],\n",
    "    \"column-b\": [2,5,8,11],\n",
    "    \"column-c\": [1,2,3,4],\n",
    "    \"column-d\": [3,4,5,6],\n",
    "    \"column-e\": [3.0, 4.0, 5.0, 6.0],\n",
    "    \"column-f\": [\"h\", \"i\", \"j\", \"k\"],\n",
    "    \"column-g\": [\"2020-01-01 00:00:00-05:00\", \"2020-01-02 00:00:00-05:00\", \"2020-01-03 00:00:00-05:00\", \"2020-01-04 00:00:00-05:00\"],\n",
    "    \"column-h\": [\"2020-01-01 00:00:00.000000000\", \"2020-01-01 00:00:00.000000001\", \"2020-01-01 00:00:00.000000002\", \"2020-01-01 00:00:00.000000003\"],\n",
    "    \"column-i\": [\"True\", \"False\", \"False\", \"True\"]\n",
    "}\n",
    "\n",
    "df = pd.DataFrame(data)\n",
    "print(df)"
   ]
  },
  {
   "cell_type": "code",
   "execution_count": 1,
   "id": "6d34ec99-2a1e-4cdc-87b7-35c261878fd5",
   "metadata": {},
   "outputs": [
    {
     "name": "stdout",
     "output_type": "stream",
     "text": [
      "    username   new_tweet_id  created_at4\n",
      "0  user_****  30176*****251  ****/***/**\n",
      "1  user_****  41287*****229  ****/***/**\n",
      "2  user_****  17024*****188  ****/***/**\n",
      "3  user_****  34631*****606  ****/***/**\n",
      "4  user_****  99488*****597  ****/***/**\n",
      "5  user_****  26785*****597  ****/***/**\n",
      "6  user_****  90048*****560  ****/***/**\n",
      "7  user_****  87616*****559  ****/***/**\n",
      "8  user_****  24416*****559  ****/***/**\n",
      "9  user_****  47840*****430  ****/***/**\n"
     ]
    }
   ],
   "source": [
    "import pandas as pd\n",
    "\n",
    "# Original DataFrame\n",
    "df = pd.DataFrame({\n",
    "    \"tweet_id\": [301767309855683251, 41287076781383229, 170242984208083188, 346316860619394606, \n",
    "                 994889748559394597, 267857845400294597, 900486039855694560, 876166652354594559, \n",
    "                 244167927104594559, 478403164894494430],\n",
    "    \"created_at\": [\"Wednesday/February/16\", \"Tuesday/February/16\", \"Monday/February/16\", \"Tuesday/December/16\", \n",
    "                   \"Tuesday/December/16\", \"Tuesday/December/16\", \"Monday/December/16\", \"Monday/December/16\", \n",
    "                   \"Monday/December/16\", \"Thursday/December/16\"],\n",
    "    \"username\": [\"yyy\"] * 10\n",
    "})\n",
    "\n",
    "# Create masked versions of the sensitive columns\n",
    "df[\"new_tweet_id\"] = df[\"tweet_id\"].apply(lambda x: str(x)[:5] + \"*****\" + str(x)[-3:])  # Mask tweet_id\n",
    "df[\"created_at4\"] = df[\"created_at\"].apply(lambda x: \"****/***/**\")                     # Mask created_at\n",
    "df[\"username\"] = df[\"username\"].apply(lambda x: \"user_****\")                           # Mask username\n",
    "\n",
    "# Drop the original sensitive columns\n",
    "df = df.drop(columns=[\"tweet_id\", \"created_at\"])\n",
    "\n",
    "print(df)"
   ]
  },
  {
   "cell_type": "code",
   "execution_count": 4,
   "id": "850e7252-e1bf-41b7-9021-1b264bcc5b78",
   "metadata": {},
   "outputs": [
    {
     "name": "stdout",
     "output_type": "stream",
     "text": [
      "Rows 3 to 12 saved successfully to D:\\School Files\\assignment-data.xlsx\n"
     ]
    }
   ],
   "source": [
    "import pandas as pd\n",
    "\n",
    "# Path to the Excel file\n",
    "file_path = r\"D:\\School Files\\assignment-data.xlsx\"\n",
    "\n",
    "# Load the Excel file into a DataFrame\n",
    "try:\n",
    "    df = pd.read_excel(file_path)\n",
    "    rows_3_to_12 = df.iloc[2:12]\n",
    "    output_path = r\"D:\\School Files\\assignment-data.xlsx\"\n",
    "    rows_3_to_12.to_excel(output_path, index=False)\n",
    "\n",
    "    print(f\"Rows 3 to 12 saved successfully to {output_path}\")\n",
    "except FileNotFoundError:\n",
    "    print(f\"Error: File not found at {file_path}\")\n",
    "except Exception as e:\n",
    "    print(f\"Error: {e}\")\n"
   ]
  },
  {
   "cell_type": "code",
   "execution_count": 7,
   "id": "3f8c58bb-137a-4da9-90d9-bc541d893326",
   "metadata": {},
   "outputs": [
    {
     "name": "stdout",
     "output_type": "stream",
     "text": [
      "             tweet_id           created_at  \\\n",
      "2  831880802489217024  2017-02-15 15:00:13   \n",
      "3  946063916068634624  2017-12-27 17:03:09   \n",
      "4  945973955847999488  2017-12-27 11:05:41   \n",
      "5  945972004548726784  2017-12-27 10:57:55   \n",
      "6  945606558930690048  2017-12-26 10:45:46   \n",
      "7  945595453256687616  2017-12-26 10:01:39   \n",
      "8  945595401729724416  2017-12-26 10:01:26   \n",
      "9  944304498461347840  2017-12-22 20:31:51   \n",
      "\n",
      "                                              tweet   retweets      username  \n",
      "2  88mph invest in Ahoy - a business travel app f...         1  88mph_Africa  \n",
      "3  Ce samedi 30 décembre 2017 à @ActivSpaces, se ...         4  ActiveSpaces  \n",
      "4  RT @OIFfrancophonie: Retour en vidéo sur la vi...        27  ActiveSpaces  \n",
      "5  RT @OIFfrancophonie: L’OIF a organisé un ateli...        13  ActiveSpaces  \n",
      "6  Plus que deux jours et les inscriptions seront...         5  ActiveSpaces  \n",
      "7  RT @nlend_nyounai: Transform your idea into a ...         1  ActiveSpaces  \n",
      "8  RT @ElongWilliam: Si tu as une idée et tu es u...         6  ActiveSpaces  \n",
      "9   RT @chantaledie: AWESOME https://t.co/pTu3k5LA81         2  ActiveSpaces  \n"
     ]
    }
   ],
   "source": [
    "import pandas as pd\n",
    "\n",
    "file_path = r\"D:\\School Files\\assignment-data.xlsx\"\n",
    "\n",
    "df = pd.read_excel(file_path)\n",
    "rows_3_to_12 = df.iloc[2:12]  \n",
    "print(rows_3_to_12)\n"
   ]
  },
  {
   "cell_type": "code",
   "execution_count": 9,
   "id": "db455610-d347-49c6-9ae5-a2d293e177ee",
   "metadata": {},
   "outputs": [
    {
     "name": "stdout",
     "output_type": "stream",
     "text": [
      "         new_tweet_id            created_at4 username\n",
      "2  325085047414863239  Wednesday/February/15      yyy\n",
      "3  356772099503579022  Wednesday/December/27      yyy\n",
      "4  634191499862593480  Wednesday/December/27      yyy\n",
      "5  974111317494011736  Wednesday/December/27      yyy\n",
      "6  198673033939932519    Tuesday/December/26      yyy\n",
      "7  210313104301727449    Tuesday/December/26      yyy\n",
      "8  960594560070696424    Tuesday/December/26      yyy\n",
      "9  509898240508396847     Friday/December/22      yyy\n"
     ]
    },
    {
     "name": "stderr",
     "output_type": "stream",
     "text": [
      "C:\\Users\\peril\\AppData\\Local\\Temp\\ipykernel_5980\\1807247245.py:12: SettingWithCopyWarning: \n",
      "A value is trying to be set on a copy of a slice from a DataFrame.\n",
      "Try using .loc[row_indexer,col_indexer] = value instead\n",
      "\n",
      "See the caveats in the documentation: https://pandas.pydata.org/pandas-docs/stable/user_guide/indexing.html#returning-a-view-versus-a-copy\n",
      "  df_subset['created_at4'] = df_subset['created_at'].apply(lambda x: convert_date_format(str(x)))\n",
      "C:\\Users\\peril\\AppData\\Local\\Temp\\ipykernel_5980\\1807247245.py:13: SettingWithCopyWarning: \n",
      "A value is trying to be set on a copy of a slice from a DataFrame.\n",
      "Try using .loc[row_indexer,col_indexer] = value instead\n",
      "\n",
      "See the caveats in the documentation: https://pandas.pydata.org/pandas-docs/stable/user_guide/indexing.html#returning-a-view-versus-a-copy\n",
      "  df_subset['username'] = 'yyy'\n",
      "C:\\Users\\peril\\AppData\\Local\\Temp\\ipykernel_5980\\1807247245.py:16: SettingWithCopyWarning: \n",
      "A value is trying to be set on a copy of a slice from a DataFrame.\n",
      "Try using .loc[row_indexer,col_indexer] = value instead\n",
      "\n",
      "See the caveats in the documentation: https://pandas.pydata.org/pandas-docs/stable/user_guide/indexing.html#returning-a-view-versus-a-copy\n",
      "  df_subset['new_tweet_id'] = [generate_new_tweet_id() for _ in range(len(df_subset))]\n"
     ]
    }
   ],
   "source": [
    "import pandas as pd\n",
    "from datetime import datetime\n",
    "import random\n",
    "\n",
    "file_path = r\"D:\\School Files\\assignment-data.xlsx\"\n",
    "df = pd.read_excel(file_path)\n",
    "def convert_date_format(date_str):\n",
    "    date_obj = datetime.strptime(date_str, '%Y-%m-%d %H:%M:%S')\n",
    "    return date_obj.strftime('%A/%B/%d')\n",
    "\n",
    "df_subset = df.iloc[2:12]\n",
    "df_subset['created_at4'] = df_subset['created_at'].apply(lambda x: convert_date_format(str(x)))\n",
    "df_subset['username'] = 'yyy'\n",
    "def generate_new_tweet_id():\n",
    "    return random.randint(100000000000000000, 999999999999999999)   \n",
    "df_subset['new_tweet_id'] = [generate_new_tweet_id() for _ in range(len(df_subset))]\n",
    "\n",
    "print(df_subset[['new_tweet_id', 'created_at4', 'username']])\n"
   ]
  },
  {
   "cell_type": "code",
   "execution_count": 15,
   "id": "e50f7656-ae26-4087-8330-5506e696e41b",
   "metadata": {},
   "outputs": [
    {
     "name": "stdout",
     "output_type": "stream",
     "text": [
      "    InvoiceNo StockCode                          Description  Quantity  \\\n",
      "0      536365    85123A   WHITE HANGING HEART T-LIGHT HOLDER         6   \n",
      "1      536365     71053                  WHITE METAL LANTERN         6   \n",
      "2      536365    84406B       CREAM CUPID HEARTS COAT HANGER         8   \n",
      "3      536365    84029G  KNITTED UNION FLAG HOT WATER BOTTLE         6   \n",
      "4      536365    84029E       RED WOOLLY HOTTIE WHITE HEART.         6   \n",
      "..        ...       ...                                  ...       ...   \n",
      "195    536388     22469                HEART OF WICKER SMALL        12   \n",
      "196    536388     22242        5 HOOK HANGER MAGIC TOADSTOOL        12   \n",
      "197    536389     22941         CHRISTMAS LIGHTS 10 REINDEER         6   \n",
      "198    536389     21622     VINTAGE UNION JACK CUSHION COVER         8   \n",
      "199    536389     21791   VINTAGE HEADS AND TAILS CARD GAME         12   \n",
      "\n",
      "            InvoiceDate  UnitPrice  CustomerID         Country  \n",
      "0   2010-12-01 08:26:00       2.55     17850.0  United Kingdom  \n",
      "1   2010-12-01 08:26:00       3.39     17850.0  United Kingdom  \n",
      "2   2010-12-01 08:26:00       2.75     17850.0  United Kingdom  \n",
      "3   2010-12-01 08:26:00       3.39     17850.0  United Kingdom  \n",
      "4   2010-12-01 08:26:00       3.39     17850.0  United Kingdom  \n",
      "..                  ...        ...         ...             ...  \n",
      "195 2010-12-01 09:59:00       1.65     16250.0  United Kingdom  \n",
      "196 2010-12-01 09:59:00       1.65     16250.0  United Kingdom  \n",
      "197 2010-12-01 10:03:00       8.50     12431.0       Australia  \n",
      "198 2010-12-01 10:03:00       4.95     12431.0       Australia  \n",
      "199 2010-12-01 10:03:00       1.25     12431.0       Australia  \n",
      "\n",
      "[200 rows x 8 columns]\n"
     ]
    }
   ],
   "source": [
    "import pandas as pd\n",
    "\n",
    "# Path to the Excel file\n",
    "file_path = r\"D:\\School Files\\assignment-data (1).xlsx\"\n",
    "df = pd.read_excel(file_path, sheet_name=\"online-retail\")\n",
    "df_first_200 = df.head(200)\n",
    "print(df_first_200)"
   ]
  },
  {
   "cell_type": "code",
   "execution_count": null,
   "id": "b36a189c-965a-4b9c-abf1-239f39e4ac93",
   "metadata": {},
   "outputs": [],
   "source": []
  }
 ],
 "metadata": {
  "kernelspec": {
   "display_name": "Python 3 (ipykernel)",
   "language": "python",
   "name": "python3"
  },
  "language_info": {
   "codemirror_mode": {
    "name": "ipython",
    "version": 3
   },
   "file_extension": ".py",
   "mimetype": "text/x-python",
   "name": "python",
   "nbconvert_exporter": "python",
   "pygments_lexer": "ipython3",
   "version": "3.12.6"
  }
 },
 "nbformat": 4,
 "nbformat_minor": 5
}
